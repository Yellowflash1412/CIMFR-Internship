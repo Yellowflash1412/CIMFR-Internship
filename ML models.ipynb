{
 "cells": [
  {
   "cell_type": "code",
   "execution_count": 155,
   "id": "1a8eb754",
   "metadata": {},
   "outputs": [],
   "source": [
    "import pandas as pd\n",
    "import numpy as np\n",
    "import matplotlib.pyplot as plt\n",
    "from sklearn.metrics import mean_squared_error\n",
    "\n"
   ]
  },
  {
   "cell_type": "code",
   "execution_count": 156,
   "id": "913d5f06",
   "metadata": {},
   "outputs": [],
   "source": [
    "df = pd.read_csv(\"C:/Users/anura/Desktop/CIMFR-Internship/SSData.csv\")"
   ]
  },
  {
   "cell_type": "code",
   "execution_count": 157,
   "id": "1efdf73f",
   "metadata": {},
   "outputs": [
    {
     "data": {
      "text/html": [
       "<div>\n",
       "<style scoped>\n",
       "    .dataframe tbody tr th:only-of-type {\n",
       "        vertical-align: middle;\n",
       "    }\n",
       "\n",
       "    .dataframe tbody tr th {\n",
       "        vertical-align: top;\n",
       "    }\n",
       "\n",
       "    .dataframe thead th {\n",
       "        text-align: right;\n",
       "    }\n",
       "</style>\n",
       "<table border=\"1\" class=\"dataframe\">\n",
       "  <thead>\n",
       "    <tr style=\"text-align: right;\">\n",
       "      <th></th>\n",
       "      <th>Density</th>\n",
       "      <th>Porosity</th>\n",
       "      <th>PLI</th>\n",
       "      <th>Pwave</th>\n",
       "      <th>SDI</th>\n",
       "      <th>PSI</th>\n",
       "      <th>UCS</th>\n",
       "      <th>YM</th>\n",
       "    </tr>\n",
       "  </thead>\n",
       "  <tbody>\n",
       "    <tr>\n",
       "      <th>0</th>\n",
       "      <td>2.285</td>\n",
       "      <td>8.46</td>\n",
       "      <td>1.515</td>\n",
       "      <td>2.690</td>\n",
       "      <td>94.164</td>\n",
       "      <td>1.111</td>\n",
       "      <td>59.12</td>\n",
       "      <td>4.340</td>\n",
       "    </tr>\n",
       "    <tr>\n",
       "      <th>1</th>\n",
       "      <td>2.318</td>\n",
       "      <td>9.48</td>\n",
       "      <td>1.885</td>\n",
       "      <td>2.516</td>\n",
       "      <td>96.222</td>\n",
       "      <td>0.862</td>\n",
       "      <td>59.46</td>\n",
       "      <td>4.712</td>\n",
       "    </tr>\n",
       "    <tr>\n",
       "      <th>2</th>\n",
       "      <td>2.274</td>\n",
       "      <td>9.42</td>\n",
       "      <td>2.829</td>\n",
       "      <td>2.416</td>\n",
       "      <td>92.538</td>\n",
       "      <td>0.813</td>\n",
       "      <td>70.88</td>\n",
       "      <td>5.780</td>\n",
       "    </tr>\n",
       "    <tr>\n",
       "      <th>3</th>\n",
       "      <td>2.216</td>\n",
       "      <td>9.07</td>\n",
       "      <td>2.116</td>\n",
       "      <td>2.603</td>\n",
       "      <td>94.125</td>\n",
       "      <td>1.250</td>\n",
       "      <td>75.59</td>\n",
       "      <td>5.510</td>\n",
       "    </tr>\n",
       "    <tr>\n",
       "      <th>4</th>\n",
       "      <td>2.246</td>\n",
       "      <td>9.10</td>\n",
       "      <td>2.572</td>\n",
       "      <td>2.493</td>\n",
       "      <td>92.573</td>\n",
       "      <td>1.471</td>\n",
       "      <td>83.81</td>\n",
       "      <td>7.150</td>\n",
       "    </tr>\n",
       "  </tbody>\n",
       "</table>\n",
       "</div>"
      ],
      "text/plain": [
       "   Density  Porosity    PLI  Pwave     SDI    PSI    UCS     YM\n",
       "0    2.285      8.46  1.515  2.690  94.164  1.111  59.12  4.340\n",
       "1    2.318      9.48  1.885  2.516  96.222  0.862  59.46  4.712\n",
       "2    2.274      9.42  2.829  2.416  92.538  0.813  70.88  5.780\n",
       "3    2.216      9.07  2.116  2.603  94.125  1.250  75.59  5.510\n",
       "4    2.246      9.10  2.572  2.493  92.573  1.471  83.81  7.150"
      ]
     },
     "execution_count": 157,
     "metadata": {},
     "output_type": "execute_result"
    }
   ],
   "source": [
    "df.head()"
   ]
  },
  {
   "cell_type": "code",
   "execution_count": 158,
   "id": "c1c70a39",
   "metadata": {},
   "outputs": [
    {
     "data": {
      "text/plain": [
       "<AxesSubplot:xlabel='Density', ylabel='UCS'>"
      ]
     },
     "execution_count": 158,
     "metadata": {},
     "output_type": "execute_result"
    },
    {
     "data": {
      "image/png": "[encoded data removed]",
      "text/plain": [
       "<Figure size 432x288 with 1 Axes>"
      ]
     },
     "metadata": {
      "needs_background": "light"
     },
     "output_type": "display_data"
    }
   ],
   "source": [
    "df.plot.scatter(x = 'Density', y = 'UCS', s = 100)"
   ]
  },
  {
   "cell_type": "code",
   "execution_count": 159,
   "id": "057ee884",
   "metadata": {},
   "outputs": [
    {
     "name": "stdout",
     "output_type": "stream",
     "text": [
      "     Density  Porosity       PLI     Pwave       SDI       PSI       UCS  \\\n",
      "0   0.020464  0.075764  0.013568  0.024091  0.843294  0.009950  0.529454   \n",
      "1   0.020391  0.083395  0.016582  0.022133  0.846458  0.007583  0.523065   \n",
      "2   0.019408  0.080395  0.024144  0.020619  0.789768  0.006939  0.604927   \n",
      "3   0.018275  0.074799  0.017450  0.021466  0.776232  0.010309  0.623377   \n",
      "4   0.017898  0.072515  0.020496  0.019866  0.737690  0.011722  0.667860   \n",
      "5   0.019755  0.078267  0.016519  0.024355  0.808058  0.004705  0.580664   \n",
      "6   0.020588  0.098853  0.019613  0.023152  0.820229  0.004720  0.559671   \n",
      "7   0.021179  0.104598  0.017763  0.022854  0.849777  0.004744  0.513658   \n",
      "8   0.022047  0.102158  0.019269  0.023850  0.845433  0.004689  0.521038   \n",
      "9   0.021171  0.080233  0.021162  0.021048  0.784177  0.005474  0.612343   \n",
      "10  0.019576  0.097383  0.017802  0.020539  0.841729  0.004662  0.527684   \n",
      "11  0.019994  0.085275  0.021073  0.022337  0.803396  0.005009  0.585698   \n",
      "12  0.019859  0.092410  0.016457  0.022117  0.859152  0.006002  0.500022   \n",
      "13  0.023476  0.159042  0.007467  0.027601  0.943055  0.005282  0.288168   \n",
      "14  0.020310  0.120504  0.011532  0.023213  0.875381  0.003880  0.463462   \n",
      "15  0.020978  0.125511  0.013822  0.023634  0.937054  0.002812  0.322475   \n",
      "16  0.021996  0.110620  0.014276  0.022656  0.908172  0.004180  0.400679   \n",
      "17  0.020384  0.108526  0.016136  0.021459  0.925597  0.007580  0.359881   \n",
      "18  0.020680  0.085279  0.018316  0.022060  0.840766  0.008215  0.531545   \n",
      "19  0.020297  0.093342  0.014569  0.021487  0.841103  0.007147  0.530036   \n",
      "20  0.021070  0.084807  0.018785  0.020581  0.870929  0.007465  0.482047   \n",
      "21  0.018955  0.095915  0.015301  0.021396  0.814758  0.006456  0.569516   \n",
      "22  0.021520  0.089317  0.018511  0.024034  0.894470  0.007560  0.434871   \n",
      "23  0.018827  0.049078  0.025624  0.020557  0.718357  0.011492  0.687924   \n",
      "24  0.018067  0.047721  0.021788  0.020408  0.704136  0.009559  0.704360   \n",
      "25  0.021152  0.118460  0.012990  0.021674  0.907044  0.005903  0.400607   \n",
      "26  0.021280  0.102357  0.013468  0.021399  0.894060  0.004938  0.432674   \n",
      "27  0.022894  0.103865  0.012864  0.022764  0.900231  0.006016  0.419486   \n",
      "28  0.021918  0.096216  0.016141  0.023342  0.898228  0.005299  0.424806   \n",
      "29  0.021097  0.086565  0.013654  0.020294  0.902412  0.004032  0.417603   \n",
      "30  0.019442  0.071512  0.013954  0.019189  0.810509  0.004712  0.577323   \n",
      "31  0.018180  0.064814  0.013246  0.017986  0.785108  0.005874  0.612281   \n",
      "32  0.019454  0.057964  0.016814  0.020689  0.780176  0.004595  0.621150   \n",
      "33  0.019876  0.066400  0.015862  0.020168  0.791435  0.003961  0.605293   \n",
      "34  0.017451  0.048568  0.017230  0.018656  0.707288  0.006804  0.700961   \n",
      "35  0.018041  0.057241  0.019960  0.018433  0.749551  0.005936  0.657605   \n",
      "36  0.018908  0.071284  0.013282  0.018520  0.807257  0.003659  0.582970   \n",
      "37  0.020799  0.110967  0.009247  0.021080  0.828082  0.003399  0.546771   \n",
      "38  0.020649  0.123405  0.010300  0.022189  0.887033  0.003973  0.442658   \n",
      "39  0.022556  0.153944  0.005040  0.021689  0.981568  0.002919  0.106791   \n",
      "40  0.025856  0.166656  0.005968  0.027080  0.968898  0.004060  0.177509   \n",
      "41  0.026133  0.166037  0.017062  0.024734  0.959184  0.003575  0.223431   \n",
      "42  0.018673  0.069394  0.013918  0.018279  0.748064  0.005055  0.656323   \n",
      "43  0.021913  0.113670  0.007331  0.021022  0.879068  0.003946  0.460200   \n",
      "44  0.027281  0.160927  0.004194  0.025655  0.978405  0.003224  0.121911   \n",
      "45  0.025304  0.163258  0.002717  0.023337  0.977489  0.003273  0.127851   \n",
      "46  0.034867  0.242853  0.003355  0.032351  0.966612  0.003694  0.065058   \n",
      "47  0.022759  0.084979  0.008576  0.023269  0.839830  0.005136  0.533240   \n",
      "48  0.017232  0.048220  0.013162  0.017332  0.701584  0.007702  0.707854   \n",
      "49  0.033415  0.233439  0.008728  0.035670  0.963883  0.003684  0.116616   \n",
      "\n",
      "          YM  \n",
      "0   0.038867  \n",
      "1   0.041451  \n",
      "2   0.049330  \n",
      "3   0.045440  \n",
      "4   0.056976  \n",
      "5   0.049671  \n",
      "6   0.053421  \n",
      "7   0.042243  \n",
      "8   0.043346  \n",
      "9   0.047912  \n",
      "10  0.049141  \n",
      "11  0.053604  \n",
      "12  0.045890  \n",
      "13  0.030266  \n",
      "14  0.057359  \n",
      "15  0.031456  \n",
      "16  0.035000  \n",
      "17  0.027994  \n",
      "18  0.044525  \n",
      "19  0.041912  \n",
      "20  0.025386  \n",
      "21  0.039086  \n",
      "22  0.037326  \n",
      "23  0.082150  \n",
      "24  0.066959  \n",
      "25  0.040387  \n",
      "26  0.043098  \n",
      "27  0.039783  \n",
      "28  0.046420  \n",
      "29  0.052034  \n",
      "30  0.060798  \n",
      "31  0.060439  \n",
      "32  0.032071  \n",
      "33  0.042104  \n",
      "34  0.071015  \n",
      "35  0.036803  \n",
      "36  0.050098  \n",
      "37  0.045103  \n",
      "38  0.030949  \n",
      "39  0.020195  \n",
      "40  0.022324  \n",
      "41  0.029619  \n",
      "42  0.062636  \n",
      "43  0.039279  \n",
      "44  0.023087  \n",
      "45  0.017684  \n",
      "46  0.012812  \n",
      "47  0.044264  \n",
      "48  0.059726  \n",
      "49  0.018902  \n"
     ]
    }
   ],
   "source": [
    "from sklearn.preprocessing import Normalizer\n",
    "scaler=Normalizer().fit(df)\n",
    "normalizeData=scaler.transform(df)\n",
    "normalizeData=pd.DataFrame(normalizeData,index=df.index,columns=df.columns)\n",
    "print(normalizeData)"
   ]
  },
  {
   "cell_type": "code",
   "execution_count": null,
   "id": "b0ec95c3",
   "metadata": {},
   "outputs": [],
   "source": []
  },
  {
   "cell_type": "code",
   "execution_count": 160,
   "id": "6a9473b5",
   "metadata": {},
   "outputs": [],
   "source": [
    "x = df.drop('UCS',axis=1).values\n",
    "\n",
    "y = df['UCS'].values\n"
   ]
  },
  {
   "cell_type": "code",
   "execution_count": 161,
   "id": "dd981279",
   "metadata": {},
   "outputs": [
    {
     "data": {
      "text/plain": [
       "array([59.12 , 59.46 , 70.88 , 75.59 , 83.81 , 66.4  , 60.24 , 53.38 ,\n",
       "       52.89 , 69.91 , 58.63 , 66.76 , 55.57 , 24.66 , 46.46 , 30.96 ,\n",
       "       40.64 , 36.51 , 57.78 , 57.92 , 51.27 , 64.84 , 45.67 , 90.69 ,\n",
       "       94.463, 39.905, 43.37 , 38.772, 41.767, 43.707, 66.28 , 75.574,\n",
       "       73.405, 68.46 , 95.4  , 83.98 , 67.551, 56.467, 45.125,  9.365,\n",
       "       13.772, 17.561, 83.23 , 45.951,  8.924,  9.883,  3.646, 54.404,\n",
       "       98.795,  6.774])"
      ]
     },
     "execution_count": 161,
     "metadata": {},
     "output_type": "execute_result"
    }
   ],
   "source": [
    "y"
   ]
  },
  {
   "cell_type": "code",
   "execution_count": 162,
   "id": "80a09795",
   "metadata": {},
   "outputs": [
    {
     "data": {
      "text/plain": [
       "array([[ 2.285,  8.46 ,  1.515,  2.69 , 94.164,  1.111,  4.34 ],\n",
       "       [ 2.318,  9.48 ,  1.885,  2.516, 96.222,  0.862,  4.712],\n",
       "       [ 2.274,  9.42 ,  2.829,  2.416, 92.538,  0.813,  5.78 ],\n",
       "       [ 2.216,  9.07 ,  2.116,  2.603, 94.125,  1.25 ,  5.51 ],\n",
       "       [ 2.246,  9.1  ,  2.572,  2.493, 92.573,  1.471,  7.15 ],\n",
       "       [ 2.259,  8.95 ,  1.889,  2.785, 92.403,  0.538,  5.68 ],\n",
       "       [ 2.216, 10.64 ,  2.111,  2.492, 88.285,  0.508,  5.75 ],\n",
       "       [ 2.201, 10.87 ,  1.846,  2.375, 88.31 ,  0.493,  4.39 ],\n",
       "       [ 2.238, 10.37 ,  1.956,  2.421, 85.819,  0.476,  4.4  ],\n",
       "       [ 2.417,  9.16 ,  2.416,  2.403, 89.528,  0.625,  5.47 ],\n",
       "       [ 2.175, 10.82 ,  1.978,  2.282, 93.523,  0.518,  5.46 ],\n",
       "       [ 2.279,  9.72 ,  2.402,  2.546, 91.574,  0.571,  6.11 ],\n",
       "       [ 2.207, 10.27 ,  1.829,  2.458, 95.482,  0.667,  5.1  ],\n",
       "       [ 2.009, 13.61 ,  0.639,  2.362, 80.702,  0.452,  2.59 ],\n",
       "       [ 2.036, 12.08 ,  1.156,  2.327, 87.753,  0.389,  5.75 ],\n",
       "       [ 2.014, 12.05 ,  1.327,  2.269, 89.964,  0.27 ,  3.02 ],\n",
       "       [ 2.231, 11.22 ,  1.448,  2.298, 92.114,  0.424,  3.55 ],\n",
       "       [ 2.068, 11.01 ,  1.637,  2.177, 93.902,  0.769,  2.84 ],\n",
       "       [ 2.248,  9.27 ,  1.991,  2.398, 91.393,  0.893,  4.84 ],\n",
       "       [ 2.218, 10.2  ,  1.592,  2.348, 91.912,  0.781,  4.58 ],\n",
       "       [ 2.241,  9.02 ,  1.998,  2.189, 92.631,  0.794,  2.7  ],\n",
       "       [ 2.158, 10.92 ,  1.742,  2.436, 92.761,  0.735,  4.45 ],\n",
       "       [ 2.26 ,  9.38 ,  1.944,  2.524, 93.937,  0.794,  3.92 ],\n",
       "       [ 2.482,  6.47 ,  3.378,  2.71 , 94.702,  1.515, 10.83 ],\n",
       "       [ 2.423,  6.4  ,  2.922,  2.737, 94.433,  1.282,  8.98 ],\n",
       "       [ 2.107, 11.8  ,  1.294,  2.159, 90.352,  0.588,  4.023],\n",
       "       [ 2.133, 10.26 ,  1.35 ,  2.145, 89.618,  0.495,  4.32 ],\n",
       "       [ 2.116,  9.6  ,  1.189,  2.104, 83.206,  0.556,  3.677],\n",
       "       [ 2.155,  9.46 ,  1.587,  2.295, 88.314,  0.521,  4.564],\n",
       "       [ 2.208,  9.06 ,  1.429,  2.124, 94.448,  0.422,  5.446],\n",
       "       [ 2.232,  8.21 ,  1.602,  2.203, 93.051,  0.541,  6.98 ],\n",
       "       [ 2.244,  8.   ,  1.635,  2.22 , 96.906,  0.725,  7.46 ],\n",
       "       [ 2.299,  6.85 ,  1.987,  2.445, 92.198,  0.543,  3.79 ],\n",
       "       [ 2.248,  7.51 ,  1.794,  2.281, 89.513,  0.448,  4.762],\n",
       "       [ 2.375,  6.61 ,  2.345,  2.539, 96.261,  0.926,  9.665],\n",
       "       [ 2.304,  7.31 ,  2.549,  2.354, 95.722,  0.758,  4.7  ],\n",
       "       [ 2.191,  8.26 ,  1.539,  2.146, 93.54 ,  0.424,  5.805],\n",
       "       [ 2.148, 11.46 ,  0.955,  2.177, 85.519,  0.351,  4.658],\n",
       "       [ 2.105, 12.58 ,  1.05 ,  2.262, 90.425,  0.405,  3.155],\n",
       "       [ 1.978, 13.5  ,  0.442,  1.902, 86.078,  0.256,  1.771],\n",
       "       [ 2.006, 12.93 ,  0.463,  2.101, 75.172,  0.315,  1.732],\n",
       "       [ 2.054, 13.05 ,  1.341,  1.944, 75.389,  0.281,  2.328],\n",
       "       [ 2.368,  8.8  ,  1.765,  2.318, 94.864,  0.641,  7.943],\n",
       "       [ 2.188, 11.35 ,  0.732,  2.099, 87.775,  0.394,  3.922],\n",
       "       [ 1.997, 11.78 ,  0.307,  1.878, 71.62 ,  0.236,  1.69 ],\n",
       "       [ 1.956, 12.62 ,  0.21 ,  1.804, 75.561,  0.253,  1.367],\n",
       "       [ 1.954, 13.61 ,  0.188,  1.813, 54.171,  0.207,  0.718],\n",
       "       [ 2.322,  8.67 ,  0.875,  2.374, 85.684,  0.524,  4.516],\n",
       "       [ 2.405,  6.73 ,  1.837,  2.419, 97.92 ,  1.075,  8.336],\n",
       "       [ 1.941, 13.56 ,  0.507,  2.072, 55.99 ,  0.214,  1.098]])"
      ]
     },
     "execution_count": 162,
     "metadata": {},
     "output_type": "execute_result"
    }
   ],
   "source": [
    "x"
   ]
  },
  {
   "cell_type": "code",
   "execution_count": 163,
   "id": "946ff5d6",
   "metadata": {},
   "outputs": [
    {
     "name": "stdout",
     "output_type": "stream",
     "text": [
      "[29 30 39 42 44 34 31 22 21 38 28 35 24  7 19  8 12  9 26 27 20 32 17 46\n",
      " 47 11 14 10 13 15 33 41 40 37 48 45 36 25 16  3  5  6 43 18  2  4  0 23\n",
      " 49  1]\n"
     ]
    }
   ],
   "source": [
    "from sklearn import preprocessing\n",
    "from sklearn import utils\n",
    "\n",
    "#convert y values to categorical values\n",
    "lab = preprocessing.LabelEncoder()\n",
    "y_transformed = lab.fit_transform(y)\n",
    "\n",
    "\n",
    "#view transformed values\n",
    "print(y_transformed)"
   ]
  },
  {
   "cell_type": "code",
   "execution_count": 164,
   "id": "95ae2a21",
   "metadata": {},
   "outputs": [],
   "source": [
    "from sklearn.model_selection import train_test_split\n",
    "x_train, x_test, y_train, y_test = train_test_split(x, y_transformed, test_size=0.30)"
   ]
  },
  {
   "cell_type": "code",
   "execution_count": null,
   "id": "e8f0121b",
   "metadata": {},
   "outputs": [],
   "source": []
  },
  {
   "cell_type": "markdown",
   "id": "e8ae894b",
   "metadata": {},
   "source": [
    "SGDC classifier"
   ]
  },
  {
   "cell_type": "code",
   "execution_count": 165,
   "id": "331c574c",
   "metadata": {},
   "outputs": [
    {
     "name": "stdout",
     "output_type": "stream",
     "text": [
      "0.0\n",
      "0.05714285714285714\n"
     ]
    }
   ],
   "source": [
    "from sklearn.linear_model import SGDClassifier\n",
    "sgd_clf = SGDClassifier(loss='modified_huber',shuffle=True, random_state=101)\n",
    "sgd_clf.fit(x_train,y_train)\n",
    "sga = sgd_clf.score(x_test,y_test)\n",
    "sgd = sgd_clf.score(x_train,y_train)\n",
    "print(sga)\n",
    "print(sgd)"
   ]
  },
  {
   "cell_type": "code",
   "execution_count": 166,
   "id": "0ef9330e",
   "metadata": {},
   "outputs": [
    {
     "name": "stdout",
     "output_type": "stream",
     "text": [
      "RMSE: 7.823043\n"
     ]
    }
   ],
   "source": [
    "sgd_clf.fit(x_train,y_train)\n",
    "preds = sgd_clf.predict(x_test)\n",
    "rmse = np.sqrt(mean_squared_error(y_test, preds))\n",
    "print(\"RMSE: %f\"%(rmse))"
   ]
  },
  {
   "cell_type": "markdown",
   "id": "44c172e6",
   "metadata": {},
   "source": [
    "KNN"
   ]
  },
  {
   "cell_type": "code",
   "execution_count": 191,
   "id": "0480fb40",
   "metadata": {},
   "outputs": [
    {
     "name": "stdout",
     "output_type": "stream",
     "text": [
      "0.4495787305747987\n",
      "0.7601008403361345\n"
     ]
    }
   ],
   "source": [
    "from sklearn.neighbors import KNeighborsRegressor\n",
    "KN_clf = KNeighborsRegressor(n_neighbors = 5)\n",
    "KN_clf.fit(x_train, y_train)\n",
    "ka = KN_clf.score(x_test, y_test)\n",
    "kb = KN_clf.score(x_train, y_train)\n",
    "print(ka)\n",
    "print (kb)"
   ]
  },
  {
   "cell_type": "code",
   "execution_count": 192,
   "id": "9c254fdc",
   "metadata": {},
   "outputs": [
    {
     "name": "stdout",
     "output_type": "stream",
     "text": [
      "RMSE: 8.854076\n"
     ]
    }
   ],
   "source": [
    "KN_clf.fit(x_train,y_train)\n",
    "preds = KN_clf.predict(x_test)\n",
    "rmse = np.sqrt(mean_squared_error(y_test, preds))\n",
    "print(\"RMSE: %f\"%(rmse))"
   ]
  },
  {
   "cell_type": "code",
   "execution_count": 169,
   "id": "801f3771",
   "metadata": {},
   "outputs": [],
   "source": [
    "y_pred = KN_clf.predict(x_test)"
   ]
  },
  {
   "cell_type": "code",
   "execution_count": 170,
   "id": "2d2a7b72",
   "metadata": {},
   "outputs": [
    {
     "name": "stdout",
     "output_type": "stream",
     "text": [
      "              precision    recall  f1-score   support\n",
      "\n",
      "           0       0.00      0.00      0.00       1.0\n",
      "           1       0.00      0.00      0.00       1.0\n",
      "           2       0.00      0.00      0.00       0.0\n",
      "           3       0.00      0.00      0.00       1.0\n",
      "           4       0.00      0.00      0.00       0.0\n",
      "           7       0.00      0.00      0.00       1.0\n",
      "           8       0.00      0.00      0.00       1.0\n",
      "           9       0.00      0.00      0.00       1.0\n",
      "          10       0.00      0.00      0.00       1.0\n",
      "          11       0.00      0.00      0.00       0.0\n",
      "          12       0.00      0.00      0.00       1.0\n",
      "          13       0.00      0.00      0.00       1.0\n",
      "          14       0.00      0.00      0.00       1.0\n",
      "          15       0.00      0.00      0.00       0.0\n",
      "          16       0.00      0.00      0.00       1.0\n",
      "          17       0.00      0.00      0.00       0.0\n",
      "          18       0.00      0.00      0.00       0.0\n",
      "          20       0.00      0.00      0.00       0.0\n",
      "          22       0.00      0.00      0.00       1.0\n",
      "          26       0.00      0.00      0.00       0.0\n",
      "          30       0.00      0.00      0.00       1.0\n",
      "          37       0.00      0.00      0.00       1.0\n",
      "          40       0.00      0.00      0.00       1.0\n",
      "\n",
      "    accuracy                           0.00      15.0\n",
      "   macro avg       0.00      0.00      0.00      15.0\n",
      "weighted avg       0.00      0.00      0.00      15.0\n",
      "\n"
     ]
    },
    {
     "name": "stderr",
     "output_type": "stream",
     "text": [
      "c:\\Users\\anura\\AppData\\Local\\Programs\\Python\\Python310\\lib\\site-packages\\sklearn\\metrics\\_classification.py:1327: UndefinedMetricWarning: Precision and F-score are ill-defined and being set to 0.0 in labels with no predicted samples. Use `zero_division` parameter to control this behavior.\n",
      "  _warn_prf(average, modifier, msg_start, len(result))\n",
      "c:\\Users\\anura\\AppData\\Local\\Programs\\Python\\Python310\\lib\\site-packages\\sklearn\\metrics\\_classification.py:1327: UndefinedMetricWarning: Recall and F-score are ill-defined and being set to 0.0 in labels with no true samples. Use `zero_division` parameter to control this behavior.\n",
      "  _warn_prf(average, modifier, msg_start, len(result))\n",
      "c:\\Users\\anura\\AppData\\Local\\Programs\\Python\\Python310\\lib\\site-packages\\sklearn\\metrics\\_classification.py:1327: UndefinedMetricWarning: Precision and F-score are ill-defined and being set to 0.0 in labels with no predicted samples. Use `zero_division` parameter to control this behavior.\n",
      "  _warn_prf(average, modifier, msg_start, len(result))\n",
      "c:\\Users\\anura\\AppData\\Local\\Programs\\Python\\Python310\\lib\\site-packages\\sklearn\\metrics\\_classification.py:1327: UndefinedMetricWarning: Recall and F-score are ill-defined and being set to 0.0 in labels with no true samples. Use `zero_division` parameter to control this behavior.\n",
      "  _warn_prf(average, modifier, msg_start, len(result))\n",
      "c:\\Users\\anura\\AppData\\Local\\Programs\\Python\\Python310\\lib\\site-packages\\sklearn\\metrics\\_classification.py:1327: UndefinedMetricWarning: Precision and F-score are ill-defined and being set to 0.0 in labels with no predicted samples. Use `zero_division` parameter to control this behavior.\n",
      "  _warn_prf(average, modifier, msg_start, len(result))\n",
      "c:\\Users\\anura\\AppData\\Local\\Programs\\Python\\Python310\\lib\\site-packages\\sklearn\\metrics\\_classification.py:1327: UndefinedMetricWarning: Recall and F-score are ill-defined and being set to 0.0 in labels with no true samples. Use `zero_division` parameter to control this behavior.\n",
      "  _warn_prf(average, modifier, msg_start, len(result))\n"
     ]
    }
   ],
   "source": [
    "from sklearn.metrics import classification_report, confusion_matrix\n",
    "print(classification_report(y_test, y_pred))\n"
   ]
  },
  {
   "cell_type": "markdown",
   "id": "73dc6236",
   "metadata": {},
   "source": [
    "Decision Tree"
   ]
  },
  {
   "cell_type": "code",
   "execution_count": 171,
   "id": "ecc7ba26",
   "metadata": {},
   "outputs": [
    {
     "name": "stdout",
     "output_type": "stream",
     "text": [
      "0.0\n",
      "0.11428571428571428\n"
     ]
    }
   ],
   "source": [
    "from sklearn import tree\n",
    "dt_clf = tree.DecisionTreeClassifier(max_depth = 3)\n",
    "dt_clf.fit(x_train, y_train)\n",
    "da = dt_clf.score(x_test, y_test)\n",
    "db = dt_clf.score(x_train, y_train)\n",
    "print(da)\n",
    "print (db)"
   ]
  },
  {
   "cell_type": "code",
   "execution_count": 172,
   "id": "83f1703b",
   "metadata": {},
   "outputs": [
    {
     "name": "stdout",
     "output_type": "stream",
     "text": [
      "RMSE: 15.383974\n"
     ]
    }
   ],
   "source": [
    "dt_clf.fit(x_train,y_train)\n",
    "preds = dt_clf.predict(x_test)\n",
    "rmse = np.sqrt(mean_squared_error(y_test, preds))\n",
    "print(\"RMSE: %f\"%(rmse))"
   ]
  },
  {
   "cell_type": "markdown",
   "id": "cdf57605",
   "metadata": {},
   "source": [
    "Randome Forest"
   ]
  },
  {
   "cell_type": "code",
   "execution_count": 173,
   "id": "73b1f1d9",
   "metadata": {},
   "outputs": [
    {
     "name": "stdout",
     "output_type": "stream",
     "text": [
      "1.0\n",
      "1.0\n"
     ]
    }
   ],
   "source": [
    "from sklearn import ensemble\n",
    "rf_clf = ensemble.RandomForestClassifier(n_estimators = 100)\n",
    "rf_clf.fit(x_train,y_train)\n",
    "ra = rf_clf.score(x_train,y_train)\n",
    "rb = rf_clf.score(x_train,y_train)\n",
    "print(ra)\n",
    "print(rb)"
   ]
  },
  {
   "cell_type": "code",
   "execution_count": 174,
   "id": "f6a5d4a6",
   "metadata": {},
   "outputs": [
    {
     "name": "stdout",
     "output_type": "stream",
     "text": [
      "RMSE: 7.252586\n"
     ]
    }
   ],
   "source": [
    "rf_clf.fit(x_train,y_train)\n",
    "preds = rf_clf.predict(x_test)\n",
    "rmse = np.sqrt(mean_squared_error(y_test, preds))\n",
    "print(\"RMSE: %f\"%(rmse))"
   ]
  },
  {
   "cell_type": "code",
   "execution_count": 175,
   "id": "318db081",
   "metadata": {},
   "outputs": [
    {
     "name": "stdout",
     "output_type": "stream",
     "text": [
      "[45  5  5 18 33 11 11 11 19 20 21  4 17 28  5]\n",
      "              precision    recall  f1-score   support\n",
      "\n",
      "           0       0.00      0.00      0.00       1.0\n",
      "           1       0.00      0.00      0.00       1.0\n",
      "           3       0.00      0.00      0.00       1.0\n",
      "           4       0.00      0.00      0.00       0.0\n",
      "           5       0.00      0.00      0.00       0.0\n",
      "           7       0.00      0.00      0.00       1.0\n",
      "           8       0.00      0.00      0.00       1.0\n",
      "           9       0.00      0.00      0.00       1.0\n",
      "          10       0.00      0.00      0.00       1.0\n",
      "          11       0.00      0.00      0.00       0.0\n",
      "          12       0.00      0.00      0.00       1.0\n",
      "          13       0.00      0.00      0.00       1.0\n",
      "          14       0.00      0.00      0.00       1.0\n",
      "          16       0.00      0.00      0.00       1.0\n",
      "          17       0.00      0.00      0.00       0.0\n",
      "          18       0.00      0.00      0.00       0.0\n",
      "          19       0.00      0.00      0.00       0.0\n",
      "          20       0.00      0.00      0.00       0.0\n",
      "          21       0.00      0.00      0.00       0.0\n",
      "          22       0.00      0.00      0.00       1.0\n",
      "          28       0.00      0.00      0.00       0.0\n",
      "          30       0.00      0.00      0.00       1.0\n",
      "          33       0.00      0.00      0.00       0.0\n",
      "          37       0.00      0.00      0.00       1.0\n",
      "          40       0.00      0.00      0.00       1.0\n",
      "          45       0.00      0.00      0.00       0.0\n",
      "\n",
      "    accuracy                           0.00      15.0\n",
      "   macro avg       0.00      0.00      0.00      15.0\n",
      "weighted avg       0.00      0.00      0.00      15.0\n",
      "\n"
     ]
    },
    {
     "name": "stderr",
     "output_type": "stream",
     "text": [
      "c:\\Users\\anura\\AppData\\Local\\Programs\\Python\\Python310\\lib\\site-packages\\sklearn\\metrics\\_classification.py:1327: UndefinedMetricWarning: Precision and F-score are ill-defined and being set to 0.0 in labels with no predicted samples. Use `zero_division` parameter to control this behavior.\n",
      "  _warn_prf(average, modifier, msg_start, len(result))\n",
      "c:\\Users\\anura\\AppData\\Local\\Programs\\Python\\Python310\\lib\\site-packages\\sklearn\\metrics\\_classification.py:1327: UndefinedMetricWarning: Recall and F-score are ill-defined and being set to 0.0 in labels with no true samples. Use `zero_division` parameter to control this behavior.\n",
      "  _warn_prf(average, modifier, msg_start, len(result))\n",
      "c:\\Users\\anura\\AppData\\Local\\Programs\\Python\\Python310\\lib\\site-packages\\sklearn\\metrics\\_classification.py:1327: UndefinedMetricWarning: Precision and F-score are ill-defined and being set to 0.0 in labels with no predicted samples. Use `zero_division` parameter to control this behavior.\n",
      "  _warn_prf(average, modifier, msg_start, len(result))\n",
      "c:\\Users\\anura\\AppData\\Local\\Programs\\Python\\Python310\\lib\\site-packages\\sklearn\\metrics\\_classification.py:1327: UndefinedMetricWarning: Recall and F-score are ill-defined and being set to 0.0 in labels with no true samples. Use `zero_division` parameter to control this behavior.\n",
      "  _warn_prf(average, modifier, msg_start, len(result))\n",
      "c:\\Users\\anura\\AppData\\Local\\Programs\\Python\\Python310\\lib\\site-packages\\sklearn\\metrics\\_classification.py:1327: UndefinedMetricWarning: Precision and F-score are ill-defined and being set to 0.0 in labels with no predicted samples. Use `zero_division` parameter to control this behavior.\n",
      "  _warn_prf(average, modifier, msg_start, len(result))\n",
      "c:\\Users\\anura\\AppData\\Local\\Programs\\Python\\Python310\\lib\\site-packages\\sklearn\\metrics\\_classification.py:1327: UndefinedMetricWarning: Recall and F-score are ill-defined and being set to 0.0 in labels with no true samples. Use `zero_division` parameter to control this behavior.\n",
      "  _warn_prf(average, modifier, msg_start, len(result))\n"
     ]
    }
   ],
   "source": [
    "y_pred_rforest = rf_clf.predict(x_test)\n",
    "print(y_pred_rforest)\n",
    "from sklearn.metrics import classification_report, confusion_matrix\n",
    "print(classification_report(y_test, y_pred_rforest))"
   ]
  },
  {
   "cell_type": "markdown",
   "id": "0d803884",
   "metadata": {},
   "source": [
    "Gradient Boost Model"
   ]
  },
  {
   "cell_type": "code",
   "execution_count": 176,
   "id": "a3969e1a",
   "metadata": {},
   "outputs": [
    {
     "name": "stdout",
     "output_type": "stream",
     "text": [
      "0.0\n",
      "1.0\n"
     ]
    }
   ],
   "source": [
    "gb_clf = ensemble.GradientBoostingClassifier(n_estimators = 40) \n",
    "gb_clf.fit(x_train, y_train)\n",
    "ga = gb_clf.score(x_test, y_test)\n",
    "gb = gb_clf.score(x_train, y_train)\n",
    "print (ga)\n",
    "print (gb)"
   ]
  },
  {
   "cell_type": "code",
   "execution_count": 177,
   "id": "c414e358",
   "metadata": {},
   "outputs": [
    {
     "name": "stdout",
     "output_type": "stream",
     "text": [
      "RMSE: 10.963576\n"
     ]
    }
   ],
   "source": [
    "gb_clf.fit(x_train,y_train)\n",
    "preds = gb_clf.predict(x_test)\n",
    "rmse = np.sqrt(mean_squared_error(y_test, preds))\n",
    "print(\"RMSE: %f\"%(rmse))"
   ]
  },
  {
   "cell_type": "markdown",
   "id": "703aa240",
   "metadata": {},
   "source": [
    "SVC"
   ]
  },
  {
   "cell_type": "code",
   "execution_count": 178,
   "id": "441ec097",
   "metadata": {},
   "outputs": [
    {
     "name": "stdout",
     "output_type": "stream",
     "text": [
      "1.0\n",
      "0.0\n"
     ]
    }
   ],
   "source": [
    "from sklearn.svm import SVC\n",
    "svc_model = SVC(C= .1, kernel='linear', gamma=1)\n",
    "svc_model.fit(x_train, y_train)\n",
    "prediction = svc_model .predict(x_test)\n",
    "print(svc_model.score(x_train, y_train))\n",
    "print(svc_model.score(x_test, y_test))"
   ]
  },
  {
   "cell_type": "code",
   "execution_count": 179,
   "id": "fb82da1e",
   "metadata": {},
   "outputs": [
    {
     "name": "stdout",
     "output_type": "stream",
     "text": [
      "<bound method BaseSVC.predict of SVC(C=0.1, gamma=1, kernel='linear')>\n"
     ]
    }
   ],
   "source": [
    "print(svc_model.predict)"
   ]
  },
  {
   "cell_type": "code",
   "execution_count": 180,
   "id": "02934f91",
   "metadata": {},
   "outputs": [
    {
     "name": "stdout",
     "output_type": "stream",
     "text": [
      "RMSE: 12.149074\n"
     ]
    }
   ],
   "source": [
    "svc_model.fit(x_train,y_train)\n",
    "preds = svc_model.predict(x_test)\n",
    "rmse = np.sqrt(mean_squared_error(y_test, preds))\n",
    "print(\"RMSE: %f\"%(rmse))"
   ]
  },
  {
   "cell_type": "markdown",
   "id": "af27545d",
   "metadata": {},
   "source": [
    "SVR"
   ]
  },
  {
   "cell_type": "code",
   "execution_count": 181,
   "id": "a7da8c4e",
   "metadata": {},
   "outputs": [
    {
     "data": {
      "text/html": [
       "<style>#sk-container-id-7 {color: black;background-color: white;}#sk-container-id-7 pre{padding: 0;}#sk-container-id-7 div.sk-toggleable {background-color: white;}#sk-container-id-7 label.sk-toggleable__label {cursor: pointer;display: block;width: 100%;margin-bottom: 0;padding: 0.3em;box-sizing: border-box;text-align: center;}#sk-container-id-7 label.sk-toggleable__label-arrow:before {content: \"▸\";float: left;margin-right: 0.25em;color: #696969;}#sk-container-id-7 label.sk-toggleable__label-arrow:hover:before {color: black;}#sk-container-id-7 div.sk-estimator:hover label.sk-toggleable__label-arrow:before {color: black;}#sk-container-id-7 div.sk-toggleable__content {max-height: 0;max-width: 0;overflow: hidden;text-align: left;background-color: #f0f8ff;}#sk-container-id-7 div.sk-toggleable__content pre {margin: 0.2em;color: black;border-radius: 0.25em;background-color: #f0f8ff;}#sk-container-id-7 input.sk-toggleable__control:checked~div.sk-toggleable__content {max-height: 200px;max-width: 100%;overflow: auto;}#sk-container-id-7 input.sk-toggleable__control:checked~label.sk-toggleable__label-arrow:before {content: \"▾\";}#sk-container-id-7 div.sk-estimator input.sk-toggleable__control:checked~label.sk-toggleable__label {background-color: #d4ebff;}#sk-container-id-7 div.sk-label input.sk-toggleable__control:checked~label.sk-toggleable__label {background-color: #d4ebff;}#sk-container-id-7 input.sk-hidden--visually {border: 0;clip: rect(1px 1px 1px 1px);clip: rect(1px, 1px, 1px, 1px);height: 1px;margin: -1px;overflow: hidden;padding: 0;position: absolute;width: 1px;}#sk-container-id-7 div.sk-estimator {font-family: monospace;background-color: #f0f8ff;border: 1px dotted black;border-radius: 0.25em;box-sizing: border-box;margin-bottom: 0.5em;}#sk-container-id-7 div.sk-estimator:hover {background-color: #d4ebff;}#sk-container-id-7 div.sk-parallel-item::after {content: \"\";width: 100%;border-bottom: 1px solid gray;flex-grow: 1;}#sk-container-id-7 div.sk-label:hover label.sk-toggleable__label {background-color: #d4ebff;}#sk-container-id-7 div.sk-serial::before {content: \"\";position: absolute;border-left: 1px solid gray;box-sizing: border-box;top: 0;bottom: 0;left: 50%;z-index: 0;}#sk-container-id-7 div.sk-serial {display: flex;flex-direction: column;align-items: center;background-color: white;padding-right: 0.2em;padding-left: 0.2em;position: relative;}#sk-container-id-7 div.sk-item {position: relative;z-index: 1;}#sk-container-id-7 div.sk-parallel {display: flex;align-items: stretch;justify-content: center;background-color: white;position: relative;}#sk-container-id-7 div.sk-item::before, #sk-container-id-7 div.sk-parallel-item::before {content: \"\";position: absolute;border-left: 1px solid gray;box-sizing: border-box;top: 0;bottom: 0;left: 50%;z-index: -1;}#sk-container-id-7 div.sk-parallel-item {display: flex;flex-direction: column;z-index: 1;position: relative;background-color: white;}#sk-container-id-7 div.sk-parallel-item:first-child::after {align-self: flex-end;width: 50%;}#sk-container-id-7 div.sk-parallel-item:last-child::after {align-self: flex-start;width: 50%;}#sk-container-id-7 div.sk-parallel-item:only-child::after {width: 0;}#sk-container-id-7 div.sk-dashed-wrapped {border: 1px dashed gray;margin: 0 0.4em 0.5em 0.4em;box-sizing: border-box;padding-bottom: 0.4em;background-color: white;}#sk-container-id-7 div.sk-label label {font-family: monospace;font-weight: bold;display: inline-block;line-height: 1.2em;}#sk-container-id-7 div.sk-label-container {text-align: center;}#sk-container-id-7 div.sk-container {/* jupyter's `normalize.less` sets `[hidden] { display: none; }` but bootstrap.min.css set `[hidden] { display: none !important; }` so we also need the `!important` here to be able to override the default hidden behavior on the sphinx rendered scikit-learn.org. See: https://github.com/scikit-learn/scikit-learn/issues/21755 */display: inline-block !important;position: relative;}#sk-container-id-7 div.sk-text-repr-fallback {display: none;}</style><div id=\"sk-container-id-7\" class=\"sk-top-container\"><div class=\"sk-text-repr-fallback\"><pre>SVR()</pre><b>In a Jupyter environment, please rerun this cell to show the HTML representation or trust the notebook. <br />On GitHub, the HTML representation is unable to render, please try loading this page with nbviewer.org.</b></div><div class=\"sk-container\" hidden><div class=\"sk-item\"><div class=\"sk-estimator sk-toggleable\"><input class=\"sk-toggleable__control sk-hidden--visually\" id=\"sk-estimator-id-7\" type=\"checkbox\" checked><label for=\"sk-estimator-id-7\" class=\"sk-toggleable__label sk-toggleable__label-arrow\">SVR</label><div class=\"sk-toggleable__content\"><pre>SVR()</pre></div></div></div></div></div>"
      ],
      "text/plain": [
       "SVR()"
      ]
     },
     "execution_count": 181,
     "metadata": {},
     "output_type": "execute_result"
    }
   ],
   "source": [
    "from sklearn.svm import SVR \n",
    "regressor = SVR(kernel = 'rbf')\n",
    "regressor.fit(x_train,y_train)\n"
   ]
  },
  {
   "cell_type": "code",
   "execution_count": 182,
   "metadata": {},
   "outputs": [
    {
     "name": "stdout",
     "output_type": "stream",
     "text": [
      "RMSE: 18.114309\n"
     ]
    }
   ],
   "source": [
    "y_pred = regressor.predict(x_test)\n",
    "rmse = np.sqrt(mean_squared_error(y_test, y_pred))\n",
    "print(\"RMSE: %f\"%(rmse))"
   ]
  },
  {
   "cell_type": "markdown",
   "id": "83e87065",
   "metadata": {},
   "source": [
    "XGB Model"
   ]
  },
  {
   "cell_type": "code",
   "execution_count": 183,
   "id": "9e2904c6",
   "metadata": {},
   "outputs": [],
   "source": [
    "import xgboost as xgb\n",
    "\n",
    "xg_reg = xgb.XGBRegressor(objective='reg:linear', colsamople_bytree = 0.3, learning_rate = 0.1, max_depth = 5, alpha = 10, n_estimators = 10)"
   ]
  },
  {
   "cell_type": "code",
   "execution_count": 184,
   "id": "e5a00c5f",
   "metadata": {},
   "outputs": [
    {
     "name": "stdout",
     "output_type": "stream",
     "text": [
      "[09:48:53] WARNING: C:/Users/Administrator/workspace/xgboost-win64_release_1.6.0/src/objective/regression_obj.cu:203: reg:linear is now deprecated in favor of reg:squarederror.\n",
      "[09:48:53] WARNING: C:/Users/Administrator/workspace/xgboost-win64_release_1.6.0/src/learner.cc:627: \n",
      "Parameters: { \"colsamople_bytree\" } might not be used.\n",
      "\n",
      "  This could be a false alarm, with some parameters getting used by language bindings but\n",
      "  then being mistakenly passed down to XGBoost core, or some parameter actually being used\n",
      "  but getting flagged wrongly here. Please open an issue if you find any such cases.\n",
      "\n",
      "\n"
     ]
    }
   ],
   "source": [
    "xg_reg.fit(x_train,y_train)\n",
    "preds = xg_reg.predict(x_test)"
   ]
  },
  {
   "cell_type": "code",
   "execution_count": 185,
   "id": "ad8e2933",
   "metadata": {},
   "outputs": [
    {
     "name": "stdout",
     "output_type": "stream",
     "text": [
      "RMSE: 9.714062\n"
     ]
    }
   ],
   "source": [
    "rmse = np.sqrt(mean_squared_error(y_test, preds))\n",
    "print(\"RMSE: %f\"%(rmse))"
   ]
  },
  {
   "cell_type": "code",
   "execution_count": null,
   "id": "4814dcd4",
   "metadata": {},
   "outputs": [],
   "source": []
  },
  {
   "cell_type": "markdown",
   "id": "79ada46a",
   "metadata": {},
   "source": []
  },
  {
   "cell_type": "code",
   "execution_count": 186,
   "id": "0757d654",
   "metadata": {},
   "outputs": [],
   "source": [
    "from sklearn.preprocessing import LabelEncoder\n",
    "le = LabelEncoder()\n",
    "y_train = le.fit_transform(y_train)"
   ]
  },
  {
   "cell_type": "markdown",
   "id": "deb5e74a",
   "metadata": {},
   "source": [
    "Extreme Gradiant boost Model with hyper parameters"
   ]
  },
  {
   "cell_type": "code",
   "execution_count": 187,
   "id": "7fd14280",
   "metadata": {},
   "outputs": [],
   "source": [
    "import xgboost\n",
    "from sklearn.model_selection import GridSearchCV\n",
    "from sklearn.metrics import roc_auc_score"
   ]
  },
  {
   "cell_type": "code",
   "execution_count": 188,
   "id": "c0b1f1bf",
   "metadata": {},
   "outputs": [
    {
     "data": {
      "text/plain": [
       "{'objective': 'binary:logistic',\n",
       " 'use_label_encoder': False,\n",
       " 'base_score': None,\n",
       " 'booster': None,\n",
       " 'callbacks': None,\n",
       " 'colsample_bylevel': None,\n",
       " 'colsample_bynode': None,\n",
       " 'colsample_bytree': None,\n",
       " 'early_stopping_rounds': None,\n",
       " 'enable_categorical': False,\n",
       " 'eval_metric': None,\n",
       " 'gamma': None,\n",
       " 'gpu_id': None,\n",
       " 'grow_policy': None,\n",
       " 'importance_type': None,\n",
       " 'interaction_constraints': None,\n",
       " 'learning_rate': None,\n",
       " 'max_bin': None,\n",
       " 'max_cat_to_onehot': None,\n",
       " 'max_delta_step': None,\n",
       " 'max_depth': None,\n",
       " 'max_leaves': None,\n",
       " 'min_child_weight': None,\n",
       " 'missing': nan,\n",
       " 'monotone_constraints': None,\n",
       " 'n_estimators': 100,\n",
       " 'n_jobs': None,\n",
       " 'num_parallel_tree': None,\n",
       " 'predictor': None,\n",
       " 'random_state': None,\n",
       " 'reg_alpha': None,\n",
       " 'reg_lambda': None,\n",
       " 'sampling_method': None,\n",
       " 'scale_pos_weight': None,\n",
       " 'subsample': None,\n",
       " 'tree_method': None,\n",
       " 'validate_parameters': None,\n",
       " 'verbosity': None}"
      ]
     },
     "execution_count": 188,
     "metadata": {},
     "output_type": "execute_result"
    }
   ],
   "source": [
    "xgboost.XGBClassifier().get_params()"
   ]
  },
  {
   "cell_type": "code",
   "execution_count": 189,
   "id": "6204d570",
   "metadata": {},
   "outputs": [
    {
     "name": "stdout",
     "output_type": "stream",
     "text": [
      "[09:48:53] WARNING: C:/Users/Administrator/workspace/xgboost-win64_release_1.6.0/src/metric/auc.cc:330: Dataset is empty, or contains only positive or negative samples.\n",
      "[0]\tvalidation_0-auc:nan\n",
      "[09:48:53] WARNING: C:/Users/Administrator/workspace/xgboost-win64_release_1.6.0/src/metric/auc.cc:330: Dataset is empty, or contains only positive or negative samples.\n",
      "[1]\tvalidation_0-auc:nan\n",
      "[09:48:53] WARNING: C:/Users/Administrator/workspace/xgboost-win64_release_1.6.0/src/metric/auc.cc:330: Dataset is empty, or contains only positive or negative samples.\n",
      "[2]\tvalidation_0-auc:nan\n",
      "[09:48:53] WARNING: C:/Users/Administrator/workspace/xgboost-win64_release_1.6.0/src/metric/auc.cc:330: Dataset is empty, or contains only positive or negative samples.\n",
      "[3]\tvalidation_0-auc:nan\n",
      "[09:48:53] WARNING: C:/Users/Administrator/workspace/xgboost-win64_release_1.6.0/src/metric/auc.cc:330: Dataset is empty, or contains only positive or negative samples.\n",
      "[4]\tvalidation_0-auc:nan\n",
      "[09:48:53] WARNING: C:/Users/Administrator/workspace/xgboost-win64_release_1.6.0/src/metric/auc.cc:330: Dataset is empty, or contains only positive or negative samples.\n",
      "[5]\tvalidation_0-auc:nan\n",
      "[09:48:53] WARNING: C:/Users/Administrator/workspace/xgboost-win64_release_1.6.0/src/metric/auc.cc:330: Dataset is empty, or contains only positive or negative samples.\n",
      "[6]\tvalidation_0-auc:nan\n",
      "[09:48:53] WARNING: C:/Users/Administrator/workspace/xgboost-win64_release_1.6.0/src/metric/auc.cc:330: Dataset is empty, or contains only positive or negative samples.\n",
      "[7]\tvalidation_0-auc:nan\n",
      "[09:48:53] WARNING: C:/Users/Administrator/workspace/xgboost-win64_release_1.6.0/src/metric/auc.cc:330: Dataset is empty, or contains only positive or negative samples.\n",
      "[8]\tvalidation_0-auc:nan\n",
      "[09:48:53] WARNING: C:/Users/Administrator/workspace/xgboost-win64_release_1.6.0/src/metric/auc.cc:330: Dataset is empty, or contains only positive or negative samples.\n",
      "[9]\tvalidation_0-auc:nan\n",
      "[09:48:53] WARNING: C:/Users/Administrator/workspace/xgboost-win64_release_1.6.0/src/metric/auc.cc:330: Dataset is empty, or contains only positive or negative samples.\n"
     ]
    },
    {
     "name": "stderr",
     "output_type": "stream",
     "text": [
      "c:\\Users\\anura\\AppData\\Local\\Programs\\Python\\Python310\\lib\\site-packages\\xgboost\\sklearn.py:793: UserWarning: `early_stopping_rounds` in `fit` method is deprecated for better compatibility with scikit-learn, use `early_stopping_rounds` in constructor or`set_params` instead.\n",
      "  warnings.warn(\n"
     ]
    },
    {
     "data": {
      "text/html": [
       "<style>#sk-container-id-8 {color: black;background-color: white;}#sk-container-id-8 pre{padding: 0;}#sk-container-id-8 div.sk-toggleable {background-color: white;}#sk-container-id-8 label.sk-toggleable__label {cursor: pointer;display: block;width: 100%;margin-bottom: 0;padding: 0.3em;box-sizing: border-box;text-align: center;}#sk-container-id-8 label.sk-toggleable__label-arrow:before {content: \"▸\";float: left;margin-right: 0.25em;color: #696969;}#sk-container-id-8 label.sk-toggleable__label-arrow:hover:before {color: black;}#sk-container-id-8 div.sk-estimator:hover label.sk-toggleable__label-arrow:before {color: black;}#sk-container-id-8 div.sk-toggleable__content {max-height: 0;max-width: 0;overflow: hidden;text-align: left;background-color: #f0f8ff;}#sk-container-id-8 div.sk-toggleable__content pre {margin: 0.2em;color: black;border-radius: 0.25em;background-color: #f0f8ff;}#sk-container-id-8 input.sk-toggleable__control:checked~div.sk-toggleable__content {max-height: 200px;max-width: 100%;overflow: auto;}#sk-container-id-8 input.sk-toggleable__control:checked~label.sk-toggleable__label-arrow:before {content: \"▾\";}#sk-container-id-8 div.sk-estimator input.sk-toggleable__control:checked~label.sk-toggleable__label {background-color: #d4ebff;}#sk-container-id-8 div.sk-label input.sk-toggleable__control:checked~label.sk-toggleable__label {background-color: #d4ebff;}#sk-container-id-8 input.sk-hidden--visually {border: 0;clip: rect(1px 1px 1px 1px);clip: rect(1px, 1px, 1px, 1px);height: 1px;margin: -1px;overflow: hidden;padding: 0;position: absolute;width: 1px;}#sk-container-id-8 div.sk-estimator {font-family: monospace;background-color: #f0f8ff;border: 1px dotted black;border-radius: 0.25em;box-sizing: border-box;margin-bottom: 0.5em;}#sk-container-id-8 div.sk-estimator:hover {background-color: #d4ebff;}#sk-container-id-8 div.sk-parallel-item::after {content: \"\";width: 100%;border-bottom: 1px solid gray;flex-grow: 1;}#sk-container-id-8 div.sk-label:hover label.sk-toggleable__label {background-color: #d4ebff;}#sk-container-id-8 div.sk-serial::before {content: \"\";position: absolute;border-left: 1px solid gray;box-sizing: border-box;top: 0;bottom: 0;left: 50%;z-index: 0;}#sk-container-id-8 div.sk-serial {display: flex;flex-direction: column;align-items: center;background-color: white;padding-right: 0.2em;padding-left: 0.2em;position: relative;}#sk-container-id-8 div.sk-item {position: relative;z-index: 1;}#sk-container-id-8 div.sk-parallel {display: flex;align-items: stretch;justify-content: center;background-color: white;position: relative;}#sk-container-id-8 div.sk-item::before, #sk-container-id-8 div.sk-parallel-item::before {content: \"\";position: absolute;border-left: 1px solid gray;box-sizing: border-box;top: 0;bottom: 0;left: 50%;z-index: -1;}#sk-container-id-8 div.sk-parallel-item {display: flex;flex-direction: column;z-index: 1;position: relative;background-color: white;}#sk-container-id-8 div.sk-parallel-item:first-child::after {align-self: flex-end;width: 50%;}#sk-container-id-8 div.sk-parallel-item:last-child::after {align-self: flex-start;width: 50%;}#sk-container-id-8 div.sk-parallel-item:only-child::after {width: 0;}#sk-container-id-8 div.sk-dashed-wrapped {border: 1px dashed gray;margin: 0 0.4em 0.5em 0.4em;box-sizing: border-box;padding-bottom: 0.4em;background-color: white;}#sk-container-id-8 div.sk-label label {font-family: monospace;font-weight: bold;display: inline-block;line-height: 1.2em;}#sk-container-id-8 div.sk-label-container {text-align: center;}#sk-container-id-8 div.sk-container {/* jupyter's `normalize.less` sets `[hidden] { display: none; }` but bootstrap.min.css set `[hidden] { display: none !important; }` so we also need the `!important` here to be able to override the default hidden behavior on the sphinx rendered scikit-learn.org. See: https://github.com/scikit-learn/scikit-learn/issues/21755 */display: inline-block !important;position: relative;}#sk-container-id-8 div.sk-text-repr-fallback {display: none;}</style><div id=\"sk-container-id-8\" class=\"sk-top-container\"><div class=\"sk-text-repr-fallback\"><pre>XGBClassifier(base_score=0.5, booster=&#x27;gbtree&#x27;, callbacks=None,\n",
       "              colsample_bylevel=1, colsample_bynode=1, colsample_bytree=0.5,\n",
       "              early_stopping_rounds=None, enable_categorical=False,\n",
       "              eval_metric=&#x27;auc&#x27;, gamma=0, gpu_id=-1, grow_policy=&#x27;depthwise&#x27;,\n",
       "              importance_type=None, interaction_constraints=&#x27;&#x27;,\n",
       "              learning_rate=0.1, max_bin=256, max_cat_to_onehot=4,\n",
       "              max_delta_step=0, max_depth=5, max_leaves=0, min_child_weight=1,\n",
       "              missing=nan, monotone_constraints=&#x27;()&#x27;, n_estimators=5000,\n",
       "              n_jobs=0, num_parallel_tree=1, objective=&#x27;multi:softprob&#x27;,\n",
       "              predictor=&#x27;auto&#x27;, random_state=0, reg_alpha=0, ...)</pre><b>In a Jupyter environment, please rerun this cell to show the HTML representation or trust the notebook. <br />On GitHub, the HTML representation is unable to render, please try loading this page with nbviewer.org.</b></div><div class=\"sk-container\" hidden><div class=\"sk-item\"><div class=\"sk-estimator sk-toggleable\"><input class=\"sk-toggleable__control sk-hidden--visually\" id=\"sk-estimator-id-8\" type=\"checkbox\" checked><label for=\"sk-estimator-id-8\" class=\"sk-toggleable__label sk-toggleable__label-arrow\">XGBClassifier</label><div class=\"sk-toggleable__content\"><pre>XGBClassifier(base_score=0.5, booster=&#x27;gbtree&#x27;, callbacks=None,\n",
       "              colsample_bylevel=1, colsample_bynode=1, colsample_bytree=0.5,\n",
       "              early_stopping_rounds=None, enable_categorical=False,\n",
       "              eval_metric=&#x27;auc&#x27;, gamma=0, gpu_id=-1, grow_policy=&#x27;depthwise&#x27;,\n",
       "              importance_type=None, interaction_constraints=&#x27;&#x27;,\n",
       "              learning_rate=0.1, max_bin=256, max_cat_to_onehot=4,\n",
       "              max_delta_step=0, max_depth=5, max_leaves=0, min_child_weight=1,\n",
       "              missing=nan, monotone_constraints=&#x27;()&#x27;, n_estimators=5000,\n",
       "              n_jobs=0, num_parallel_tree=1, objective=&#x27;multi:softprob&#x27;,\n",
       "              predictor=&#x27;auto&#x27;, random_state=0, reg_alpha=0, ...)</pre></div></div></div></div></div>"
      ],
      "text/plain": [
       "XGBClassifier(base_score=0.5, booster='gbtree', callbacks=None,\n",
       "              colsample_bylevel=1, colsample_bynode=1, colsample_bytree=0.5,\n",
       "              early_stopping_rounds=None, enable_categorical=False,\n",
       "              eval_metric='auc', gamma=0, gpu_id=-1, grow_policy='depthwise',\n",
       "              importance_type=None, interaction_constraints='',\n",
       "              learning_rate=0.1, max_bin=256, max_cat_to_onehot=4,\n",
       "              max_delta_step=0, max_depth=5, max_leaves=0, min_child_weight=1,\n",
       "              missing=nan, monotone_constraints='()', n_estimators=5000,\n",
       "              n_jobs=0, num_parallel_tree=1, objective='multi:softprob',\n",
       "              predictor='auto', random_state=0, reg_alpha=0, ...)"
      ]
     },
     "execution_count": 189,
     "metadata": {},
     "output_type": "execute_result"
    }
   ],
   "source": [
    "model_xgboost = xgboost.XGBClassifier(learning_rate=0.1,\n",
    "                                      max_depth=5,\n",
    "                                      n_estimators=5000,\n",
    "                                      subsample=0.5,\n",
    "                                      colsample_bytree=0.5,\n",
    "                                      eval_metric='auc',\n",
    "                                      verbosity=1)\n",
    "\n",
    "eval_set = [(x, y)]\n",
    "\n",
    "model_xgboost.fit(x_train, y_train,early_stopping_rounds=10,eval_set=eval_set,verbose=True)"
   ]
  },
  {
   "cell_type": "markdown",
   "id": "712e1abe",
   "metadata": {},
   "source": [
    "Model Performance"
   ]
  },
  {
   "cell_type": "code",
   "execution_count": 190,
   "id": "b0b81c06",
   "metadata": {},
   "outputs": [
    {
     "name": "stdout",
     "output_type": "stream",
     "text": [
      "27\n"
     ]
    },
    {
     "data": {
      "text/plain": [
       "{'learning_rate': [0.02, 0.05, 0.1],\n",
       " 'max_depth': [2, 3, 5],\n",
       " 'n_estimators': [1000, 2000, 3000]}"
      ]
     },
     "execution_count": 190,
     "metadata": {},
     "output_type": "execute_result"
    }
   ],
   "source": [
    "learning_rate_list = [0.02, 0.05, 0.1]\n",
    "max_depth_list = [2, 3, 5]\n",
    "n_estimators_list = [1000, 2000, 3000]\n",
    "\n",
    "params_dict = {\"learning_rate\": learning_rate_list,\n",
    "               \"max_depth\": max_depth_list,\n",
    "               \"n_estimators\": n_estimators_list}\n",
    "\n",
    "num_combinations = 1\n",
    "for v in params_dict.values(): num_combinations *= len(v) \n",
    "\n",
    "print(num_combinations)\n",
    "params_dict"
   ]
  },
  {
   "cell_type": "code",
   "execution_count": null,
   "id": "def19340",
   "metadata": {},
   "outputs": [],
   "source": []
  },
  {
   "cell_type": "code",
   "execution_count": null,
   "id": "5528c85b",
   "metadata": {},
   "outputs": [],
   "source": []
  }
 ],
 "metadata": {
  "kernelspec": {
   "display_name": "Python 3.10.1 64-bit",
   "language": "python",
   "name": "python3"
  },
  "language_info": {
   "codemirror_mode": {
    "name": "ipython",
    "version": 3
   },
   "file_extension": ".py",
   "mimetype": "text/x-python",
   "name": "python",
   "nbconvert_exporter": "python",
   "pygments_lexer": "ipython3",
   "version": "3.10.1"
  },
  "vscode": {
   "interpreter": {
    "hash": "fbfacf25abbc4466cbf6a4ec94f71aa428570133f008ac9f4c86deb26a69bb88"
   }
  }
 },
 "nbformat": 4,
 "nbformat_minor": 5
}
